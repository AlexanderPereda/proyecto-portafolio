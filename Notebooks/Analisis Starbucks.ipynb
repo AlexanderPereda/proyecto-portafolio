{
 "cells": [
  {
   "cell_type": "code",
   "execution_count": 1,
   "metadata": {},
   "outputs": [],
   "source": [
    "import pandas as pd"
   ]
  },
  {
   "cell_type": "code",
   "execution_count": 7,
   "metadata": {},
   "outputs": [
    {
     "ename": "SyntaxError",
     "evalue": "(unicode error) 'unicodeescape' codec can't decode bytes in position 2-3: truncated \\UXXXXXXXX escape (<ipython-input-7-839d62bcc156>, line 1)",
     "output_type": "error",
     "traceback": [
      "\u001b[1;36m  File \u001b[1;32m\"<ipython-input-7-839d62bcc156>\"\u001b[1;36m, line \u001b[1;32m1\u001b[0m\n\u001b[1;33m    doc = pd.read_csv(\"C:\\Users\\USUARIO\\Documents\\GitHub\\proyecto-portafolio\\data\\Starbucks satisfactory survey2.csv\")\u001b[0m\n\u001b[1;37m                      ^\u001b[0m\n\u001b[1;31mSyntaxError\u001b[0m\u001b[1;31m:\u001b[0m (unicode error) 'unicodeescape' codec can't decode bytes in position 2-3: truncated \\UXXXXXXXX escape\n"
     ]
    }
   ],
   "source": [
    "doc = pd.read_csv(\"C:\\Users\\USUARIO\\Documents\\GitHub\\proyecto-portafolio\\data\\Starbucks satisfactory survey2.csv\")\n",
    "pd.read_csv(\"C:\\Users\\USUARIO\\Documents\\GitHub\\proyecto-portafolio\\data\\Starbucks satisfactory survey2.csv\").head()"
   ]
  },
  {
   "cell_type": "code",
   "execution_count": null,
   "metadata": {},
   "outputs": [],
   "source": [
    "# Renombrando las columnas\n",
    "\n",
    "doc2=  doc.rename(columns={\"1. Your Gender\" : \"Genero\" , \n",
    "           \"2. Your Age\" : \"Edad\",\n",
    "           \"3. Are you currently....?\" : \"Ocupacion\" ,\n",
    "           \"4. What is your annual income?\" : \"Ingresos\" ,\n",
    "           \"5. How often do you visit Starbucks?\" : \"Frecuencia de Visita\",\n",
    "           \"6. How do you usually enjoy Starbucks?\" : \"Disfrute\",         \n",
    "           \"7. How much time do you normally spend during your visit?\" : \"Visit Time\",\n",
    "           \"8. The nearest Starbucks's outlet to you is...?\" : \"STB mas cercano\",\n",
    "           \"9. Do you have Starbucks membership card?\" : \"Membership Card\",\n",
    "           \"10. What do you most frequently purchase at Starbucks?\" : \"Compra preferida\",\n",
    "           \"11. On average, how much would you spend at Starbucks per visit?\": \"Gasto prom per visita\",\n",
    "           \"12. How would you rate the quality of Starbucks compared to other brands (Coffee Bean, Old Town White Coffee..) to be:\":\"Calificacion Sabor\",\n",
    "           \"13. How would you rate the price range at Starbucks?\" : \"Calificacion Precio\",\n",
    "           \"14. How important are sales and promotions in your purchase decision?\" : \"Calificacion Promociones\",\n",
    "           \"15. How would you rate the ambiance at Starbucks? (lighting, music, etc...)\" : \"Calificacion Ambiente\",\n",
    "           \"16. You rate the WiFi quality at Starbucks as..\" : \"Calificacion Wifi\",\n",
    "           \"17. How would you rate the service at Starbucks? (Promptness, friendliness, etc..)\" : \"Calificacion Servicio\",\n",
    "           \"18. How likely you will choose Starbucks for doing business meetings or hangout with friends?\" : \"STB for Meettings\",\n",
    "           \"19. How do you come to hear of promotions at Starbucks? Check all that apply.\" : \"Publicity de contacto\",\n",
    "           \"20. Will you continue buying at Starbucks?\" : \"Buy Again\"}\n",
    "           , inplace = False)\n",
    "\n",
    "doc2.head()"
   ]
  },
  {
   "cell_type": "code",
   "execution_count": null,
   "metadata": {},
   "outputs": [],
   "source": []
  }
 ],
 "metadata": {
  "kernelspec": {
   "display_name": "Python 3",
   "language": "python",
   "name": "python3"
  },
  "language_info": {
   "codemirror_mode": {
    "name": "ipython",
    "version": 3
   },
   "file_extension": ".py",
   "mimetype": "text/x-python",
   "name": "python",
   "nbconvert_exporter": "python",
   "pygments_lexer": "ipython3",
   "version": "3.8.5"
  }
 },
 "nbformat": 4,
 "nbformat_minor": 4
}
